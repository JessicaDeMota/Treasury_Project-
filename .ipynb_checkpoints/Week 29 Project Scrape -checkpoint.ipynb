{
 "cells": [
  {
   "cell_type": "code",
   "execution_count": 1,
   "id": "formal-latest",
   "metadata": {},
   "outputs": [],
   "source": [
    "import requests "
   ]
  },
  {
   "cell_type": "code",
   "execution_count": 2,
   "id": "packed-serve",
   "metadata": {},
   "outputs": [
    {
     "name": "stdout",
     "output_type": "stream",
     "text": [
      "Requirement already satisfied: BeautifulSoup4 in /Library/Frameworks/Python.framework/Versions/3.9/lib/python3.9/site-packages (4.9.3)\n",
      "Requirement already satisfied: soupsieve>1.2; python_version >= \"3.0\" in /Library/Frameworks/Python.framework/Versions/3.9/lib/python3.9/site-packages (from BeautifulSoup4) (2.2.1)\n",
      "\u001b[33mYou are using pip version 19.0.3, however version 21.1 is available.\n",
      "You should consider upgrading via the 'pip install --upgrade pip' command.\u001b[0m\n",
      "Note: you may need to restart the kernel to use updated packages.\n"
     ]
    }
   ],
   "source": [
    "pip install BeautifulSoup4"
   ]
  },
  {
   "cell_type": "code",
   "execution_count": 3,
   "id": "serious-liberia",
   "metadata": {},
   "outputs": [],
   "source": [
    "from bs4 import BeautifulSoup "
   ]
  },
  {
   "cell_type": "code",
   "execution_count": 4,
   "id": "systematic-anxiety",
   "metadata": {},
   "outputs": [],
   "source": [
    "import csv "
   ]
  },
  {
   "cell_type": "code",
   "execution_count": 5,
   "id": "intermediate-smith",
   "metadata": {},
   "outputs": [],
   "source": [
    "import pandas as pd "
   ]
  },
  {
   "cell_type": "code",
   "execution_count": 6,
   "id": "designed-globe",
   "metadata": {},
   "outputs": [],
   "source": [
    "import matplotlib as mpl "
   ]
  },
  {
   "cell_type": "code",
   "execution_count": 7,
   "id": "centered-conservation",
   "metadata": {},
   "outputs": [],
   "source": [
    "import matplotlib.pyplot as plt "
   ]
  },
  {
   "cell_type": "code",
   "execution_count": 49,
   "id": "solid-homeless",
   "metadata": {},
   "outputs": [],
   "source": [
    "def webscraper():\n",
    "    url = \"https://www.treasury.gov/resource-center/data-chart-center/interest-rates/Pages/TextView.aspx?data=yield\"\n",
    "    r = requests.get(url)\n",
    "    soup = BeautifulSoup(r.text,\"html.parser\")\n",
    "    table = soup.find(\"table\",{\"class\":\"t-chart\"})\n",
    "    rows = table.findAll(\"tr\")\n",
    "    data_matrix = []\n",
    "    \n",
    "    for i in range(1,len(rows)):\n",
    "        x = list(rows[i].stripped_strings)\n",
    "        data_matrix.append(x)\n",
    "        \n",
    "#     for ml in data_matrix:\n",
    "    return data_matrix\n",
    "\n",
    "    \n",
    "#     with open('Treasury_data.csv','w') as CSVfile:\n",
    "#        CSVWriter = csv.writer(CSVfile)\n",
    "#         for ml in data_matrix:\n",
    "#              CSVWriter.writerow(ml)\n",
    "        \n",
    "        \n",
    "# def make_chart():\n",
    "#     df = pd.read_csv(\"Treasury_data.csv\")\n",
    "#     df.columns = ['Date','1 Mo','2 Mo','3 Mo','6 Mo','1 Yr','2 Yr','3 Yr','5 Yr','7 Yr','10 Yr','20 Yr','30 Yr']\n",
    "#     fig = plt.figure(figsize=(16,8))\n",
    "#     plt.plot(df['Date'],df['1 Mo','2 Mo','3 Mo','6 Mo'],label='Months')\n",
    "#     plt.plot(df(['Date'],df('1 Yr','2 Yr','3 Yr','5 Yr','7 Yr'))\n",
    "#     plt.savefig('charts/Treasury_curve.png')\n",
    "\n",
    "    "
   ]
  },
  {
   "cell_type": "code",
   "execution_count": 50,
   "id": "checked-georgia",
   "metadata": {},
   "outputs": [],
   "source": [
    "data_matrix = webscraper()"
   ]
  },
  {
   "cell_type": "code",
   "execution_count": 52,
   "id": "brave-investor",
   "metadata": {},
   "outputs": [],
   "source": [
    "def write_data(data):\n",
    "    with open('Treasury_data.csv','w') as CSVfile:\n",
    "        CSVWriter = csv.writer(CSVfile)\n",
    "        for ml in data:\n",
    "            CSVWriter.writerow(ml)\n",
    "\n",
    "write_data(data_matrix)"
   ]
  },
  {
   "cell_type": "code",
   "execution_count": 70,
   "id": "dress-september",
   "metadata": {},
   "outputs": [],
   "source": [
    " def make_chart():\n",
    "    cols = ['Date','1 Mo','2 Mo','3 Mo','6 Mo','1 Yr','2 Yr','3 Yr','5 Yr','7 Yr','10 Yr','20 Yr','30 Yr']\n",
    "    df = pd.read_csv(\"Treasury_data.csv\",names = cols)\n",
    "    fig = plt.figure(figsize=(16,8))\n",
    "    plt.plot(df['Date'],df[['1 Mo','2 Mo','3 Mo','6 Mo']],label='Months')\n",
    "    plt.plot(df['Date'],df[['1 Yr','2 Yr','3 Yr','5 Yr','7 Yr']])\n",
    "    plt.savefig('charts/Treasury_curve.png')"
   ]
  },
  {
   "cell_type": "code",
   "execution_count": 71,
   "id": "pregnant-behalf",
   "metadata": {},
   "outputs": [],
   "source": [
    "cols = ['Date','1 Mo','2 Mo','3 Mo','6 Mo','1 Yr','2 Yr','3 Yr','5 Yr','7 Yr','10 Yr','20 Yr','30 Yr']"
   ]
  },
  {
   "cell_type": "code",
   "execution_count": 72,
   "id": "present-campbell",
   "metadata": {},
   "outputs": [],
   "source": [
    " df = pd.read_csv(\"Treasury_data.csv\",names = cols)"
   ]
  },
  {
   "cell_type": "code",
   "execution_count": 73,
   "id": "judicial-batman",
   "metadata": {},
   "outputs": [
    {
     "data": {
      "text/html": [
       "<div>\n",
       "<style scoped>\n",
       "    .dataframe tbody tr th:only-of-type {\n",
       "        vertical-align: middle;\n",
       "    }\n",
       "\n",
       "    .dataframe tbody tr th {\n",
       "        vertical-align: top;\n",
       "    }\n",
       "\n",
       "    .dataframe thead th {\n",
       "        text-align: right;\n",
       "    }\n",
       "</style>\n",
       "<table border=\"1\" class=\"dataframe\">\n",
       "  <thead>\n",
       "    <tr style=\"text-align: right;\">\n",
       "      <th></th>\n",
       "      <th>Date</th>\n",
       "      <th>1 Mo</th>\n",
       "      <th>2 Mo</th>\n",
       "      <th>3 Mo</th>\n",
       "      <th>6 Mo</th>\n",
       "      <th>1 Yr</th>\n",
       "      <th>2 Yr</th>\n",
       "      <th>3 Yr</th>\n",
       "      <th>5 Yr</th>\n",
       "      <th>7 Yr</th>\n",
       "      <th>10 Yr</th>\n",
       "      <th>20 Yr</th>\n",
       "      <th>30 Yr</th>\n",
       "    </tr>\n",
       "  </thead>\n",
       "  <tbody>\n",
       "    <tr>\n",
       "      <th>0</th>\n",
       "      <td>04/01/21</td>\n",
       "      <td>0.02</td>\n",
       "      <td>0.02</td>\n",
       "      <td>0.02</td>\n",
       "      <td>0.04</td>\n",
       "      <td>0.06</td>\n",
       "      <td>0.17</td>\n",
       "      <td>0.35</td>\n",
       "      <td>0.90</td>\n",
       "      <td>1.37</td>\n",
       "      <td>1.69</td>\n",
       "      <td>2.24</td>\n",
       "      <td>2.34</td>\n",
       "    </tr>\n",
       "    <tr>\n",
       "      <th>1</th>\n",
       "      <td>04/02/21</td>\n",
       "      <td>0.02</td>\n",
       "      <td>0.02</td>\n",
       "      <td>0.02</td>\n",
       "      <td>0.04</td>\n",
       "      <td>0.07</td>\n",
       "      <td>0.19</td>\n",
       "      <td>0.39</td>\n",
       "      <td>0.97</td>\n",
       "      <td>1.42</td>\n",
       "      <td>1.72</td>\n",
       "      <td>2.27</td>\n",
       "      <td>2.35</td>\n",
       "    </tr>\n",
       "    <tr>\n",
       "      <th>2</th>\n",
       "      <td>04/05/21</td>\n",
       "      <td>0.03</td>\n",
       "      <td>0.02</td>\n",
       "      <td>0.03</td>\n",
       "      <td>0.04</td>\n",
       "      <td>0.06</td>\n",
       "      <td>0.17</td>\n",
       "      <td>0.37</td>\n",
       "      <td>0.94</td>\n",
       "      <td>1.40</td>\n",
       "      <td>1.73</td>\n",
       "      <td>2.28</td>\n",
       "      <td>2.36</td>\n",
       "    </tr>\n",
       "    <tr>\n",
       "      <th>3</th>\n",
       "      <td>04/06/21</td>\n",
       "      <td>0.02</td>\n",
       "      <td>0.02</td>\n",
       "      <td>0.02</td>\n",
       "      <td>0.04</td>\n",
       "      <td>0.06</td>\n",
       "      <td>0.16</td>\n",
       "      <td>0.35</td>\n",
       "      <td>0.88</td>\n",
       "      <td>1.34</td>\n",
       "      <td>1.67</td>\n",
       "      <td>2.24</td>\n",
       "      <td>2.32</td>\n",
       "    </tr>\n",
       "    <tr>\n",
       "      <th>4</th>\n",
       "      <td>04/07/21</td>\n",
       "      <td>0.01</td>\n",
       "      <td>0.02</td>\n",
       "      <td>0.02</td>\n",
       "      <td>0.04</td>\n",
       "      <td>0.06</td>\n",
       "      <td>0.16</td>\n",
       "      <td>0.34</td>\n",
       "      <td>0.87</td>\n",
       "      <td>1.34</td>\n",
       "      <td>1.68</td>\n",
       "      <td>2.26</td>\n",
       "      <td>2.35</td>\n",
       "    </tr>\n",
       "    <tr>\n",
       "      <th>5</th>\n",
       "      <td>04/08/21</td>\n",
       "      <td>0.02</td>\n",
       "      <td>0.02</td>\n",
       "      <td>0.01</td>\n",
       "      <td>0.04</td>\n",
       "      <td>0.05</td>\n",
       "      <td>0.14</td>\n",
       "      <td>0.33</td>\n",
       "      <td>0.85</td>\n",
       "      <td>1.30</td>\n",
       "      <td>1.64</td>\n",
       "      <td>2.22</td>\n",
       "      <td>2.32</td>\n",
       "    </tr>\n",
       "    <tr>\n",
       "      <th>6</th>\n",
       "      <td>04/09/21</td>\n",
       "      <td>0.02</td>\n",
       "      <td>0.01</td>\n",
       "      <td>0.02</td>\n",
       "      <td>0.03</td>\n",
       "      <td>0.06</td>\n",
       "      <td>0.16</td>\n",
       "      <td>0.35</td>\n",
       "      <td>0.87</td>\n",
       "      <td>1.33</td>\n",
       "      <td>1.67</td>\n",
       "      <td>2.23</td>\n",
       "      <td>2.34</td>\n",
       "    </tr>\n",
       "    <tr>\n",
       "      <th>7</th>\n",
       "      <td>04/12/21</td>\n",
       "      <td>0.02</td>\n",
       "      <td>0.02</td>\n",
       "      <td>0.02</td>\n",
       "      <td>0.04</td>\n",
       "      <td>0.06</td>\n",
       "      <td>0.18</td>\n",
       "      <td>0.38</td>\n",
       "      <td>0.89</td>\n",
       "      <td>1.35</td>\n",
       "      <td>1.69</td>\n",
       "      <td>2.24</td>\n",
       "      <td>2.34</td>\n",
       "    </tr>\n",
       "    <tr>\n",
       "      <th>8</th>\n",
       "      <td>04/13/21</td>\n",
       "      <td>0.03</td>\n",
       "      <td>0.02</td>\n",
       "      <td>0.03</td>\n",
       "      <td>0.05</td>\n",
       "      <td>0.06</td>\n",
       "      <td>0.16</td>\n",
       "      <td>0.35</td>\n",
       "      <td>0.85</td>\n",
       "      <td>1.29</td>\n",
       "      <td>1.64</td>\n",
       "      <td>2.21</td>\n",
       "      <td>2.32</td>\n",
       "    </tr>\n",
       "    <tr>\n",
       "      <th>9</th>\n",
       "      <td>04/14/21</td>\n",
       "      <td>0.02</td>\n",
       "      <td>0.02</td>\n",
       "      <td>0.02</td>\n",
       "      <td>0.04</td>\n",
       "      <td>0.06</td>\n",
       "      <td>0.16</td>\n",
       "      <td>0.35</td>\n",
       "      <td>0.87</td>\n",
       "      <td>1.31</td>\n",
       "      <td>1.64</td>\n",
       "      <td>2.22</td>\n",
       "      <td>2.32</td>\n",
       "    </tr>\n",
       "    <tr>\n",
       "      <th>10</th>\n",
       "      <td>04/15/21</td>\n",
       "      <td>0.02</td>\n",
       "      <td>0.01</td>\n",
       "      <td>0.02</td>\n",
       "      <td>0.04</td>\n",
       "      <td>0.06</td>\n",
       "      <td>0.16</td>\n",
       "      <td>0.32</td>\n",
       "      <td>0.81</td>\n",
       "      <td>1.24</td>\n",
       "      <td>1.56</td>\n",
       "      <td>2.13</td>\n",
       "      <td>2.23</td>\n",
       "    </tr>\n",
       "    <tr>\n",
       "      <th>11</th>\n",
       "      <td>04/16/21</td>\n",
       "      <td>0.02</td>\n",
       "      <td>0.02</td>\n",
       "      <td>0.02</td>\n",
       "      <td>0.04</td>\n",
       "      <td>0.06</td>\n",
       "      <td>0.16</td>\n",
       "      <td>0.34</td>\n",
       "      <td>0.84</td>\n",
       "      <td>1.26</td>\n",
       "      <td>1.59</td>\n",
       "      <td>2.15</td>\n",
       "      <td>2.26</td>\n",
       "    </tr>\n",
       "    <tr>\n",
       "      <th>12</th>\n",
       "      <td>04/19/21</td>\n",
       "      <td>0.01</td>\n",
       "      <td>0.02</td>\n",
       "      <td>0.02</td>\n",
       "      <td>0.04</td>\n",
       "      <td>0.08</td>\n",
       "      <td>0.16</td>\n",
       "      <td>0.34</td>\n",
       "      <td>0.85</td>\n",
       "      <td>1.28</td>\n",
       "      <td>1.61</td>\n",
       "      <td>2.18</td>\n",
       "      <td>2.29</td>\n",
       "    </tr>\n",
       "    <tr>\n",
       "      <th>13</th>\n",
       "      <td>04/20/21</td>\n",
       "      <td>0.01</td>\n",
       "      <td>0.02</td>\n",
       "      <td>0.03</td>\n",
       "      <td>0.04</td>\n",
       "      <td>0.07</td>\n",
       "      <td>0.15</td>\n",
       "      <td>0.31</td>\n",
       "      <td>0.81</td>\n",
       "      <td>1.25</td>\n",
       "      <td>1.58</td>\n",
       "      <td>2.16</td>\n",
       "      <td>2.27</td>\n",
       "    </tr>\n",
       "    <tr>\n",
       "      <th>14</th>\n",
       "      <td>04/21/21</td>\n",
       "      <td>0.00</td>\n",
       "      <td>0.02</td>\n",
       "      <td>0.03</td>\n",
       "      <td>0.04</td>\n",
       "      <td>0.07</td>\n",
       "      <td>0.15</td>\n",
       "      <td>0.32</td>\n",
       "      <td>0.81</td>\n",
       "      <td>1.24</td>\n",
       "      <td>1.57</td>\n",
       "      <td>2.16</td>\n",
       "      <td>2.26</td>\n",
       "    </tr>\n",
       "    <tr>\n",
       "      <th>15</th>\n",
       "      <td>04/22/21</td>\n",
       "      <td>0.02</td>\n",
       "      <td>0.02</td>\n",
       "      <td>0.03</td>\n",
       "      <td>0.04</td>\n",
       "      <td>0.06</td>\n",
       "      <td>0.16</td>\n",
       "      <td>0.32</td>\n",
       "      <td>0.81</td>\n",
       "      <td>1.24</td>\n",
       "      <td>1.57</td>\n",
       "      <td>2.13</td>\n",
       "      <td>2.24</td>\n",
       "    </tr>\n",
       "    <tr>\n",
       "      <th>16</th>\n",
       "      <td>04/23/21</td>\n",
       "      <td>0.01</td>\n",
       "      <td>0.02</td>\n",
       "      <td>0.03</td>\n",
       "      <td>0.03</td>\n",
       "      <td>0.07</td>\n",
       "      <td>0.16</td>\n",
       "      <td>0.34</td>\n",
       "      <td>0.83</td>\n",
       "      <td>1.26</td>\n",
       "      <td>1.58</td>\n",
       "      <td>2.14</td>\n",
       "      <td>2.25</td>\n",
       "    </tr>\n",
       "    <tr>\n",
       "      <th>17</th>\n",
       "      <td>04/26/21</td>\n",
       "      <td>0.02</td>\n",
       "      <td>0.02</td>\n",
       "      <td>0.03</td>\n",
       "      <td>0.04</td>\n",
       "      <td>0.06</td>\n",
       "      <td>0.18</td>\n",
       "      <td>0.35</td>\n",
       "      <td>0.85</td>\n",
       "      <td>1.27</td>\n",
       "      <td>1.58</td>\n",
       "      <td>2.13</td>\n",
       "      <td>2.24</td>\n",
       "    </tr>\n",
       "    <tr>\n",
       "      <th>18</th>\n",
       "      <td>04/27/21</td>\n",
       "      <td>0.01</td>\n",
       "      <td>0.02</td>\n",
       "      <td>0.01</td>\n",
       "      <td>0.04</td>\n",
       "      <td>0.06</td>\n",
       "      <td>0.17</td>\n",
       "      <td>0.36</td>\n",
       "      <td>0.88</td>\n",
       "      <td>1.32</td>\n",
       "      <td>1.63</td>\n",
       "      <td>2.18</td>\n",
       "      <td>2.29</td>\n",
       "    </tr>\n",
       "    <tr>\n",
       "      <th>19</th>\n",
       "      <td>04/28/21</td>\n",
       "      <td>0.01</td>\n",
       "      <td>0.01</td>\n",
       "      <td>0.01</td>\n",
       "      <td>0.04</td>\n",
       "      <td>0.05</td>\n",
       "      <td>0.17</td>\n",
       "      <td>0.35</td>\n",
       "      <td>0.86</td>\n",
       "      <td>1.31</td>\n",
       "      <td>1.63</td>\n",
       "      <td>2.19</td>\n",
       "      <td>2.29</td>\n",
       "    </tr>\n",
       "  </tbody>\n",
       "</table>\n",
       "</div>"
      ],
      "text/plain": [
       "        Date  1 Mo  2 Mo  3 Mo  6 Mo  1 Yr  2 Yr  3 Yr  5 Yr  7 Yr  10 Yr  \\\n",
       "0   04/01/21  0.02  0.02  0.02  0.04  0.06  0.17  0.35  0.90  1.37   1.69   \n",
       "1   04/02/21  0.02  0.02  0.02  0.04  0.07  0.19  0.39  0.97  1.42   1.72   \n",
       "2   04/05/21  0.03  0.02  0.03  0.04  0.06  0.17  0.37  0.94  1.40   1.73   \n",
       "3   04/06/21  0.02  0.02  0.02  0.04  0.06  0.16  0.35  0.88  1.34   1.67   \n",
       "4   04/07/21  0.01  0.02  0.02  0.04  0.06  0.16  0.34  0.87  1.34   1.68   \n",
       "5   04/08/21  0.02  0.02  0.01  0.04  0.05  0.14  0.33  0.85  1.30   1.64   \n",
       "6   04/09/21  0.02  0.01  0.02  0.03  0.06  0.16  0.35  0.87  1.33   1.67   \n",
       "7   04/12/21  0.02  0.02  0.02  0.04  0.06  0.18  0.38  0.89  1.35   1.69   \n",
       "8   04/13/21  0.03  0.02  0.03  0.05  0.06  0.16  0.35  0.85  1.29   1.64   \n",
       "9   04/14/21  0.02  0.02  0.02  0.04  0.06  0.16  0.35  0.87  1.31   1.64   \n",
       "10  04/15/21  0.02  0.01  0.02  0.04  0.06  0.16  0.32  0.81  1.24   1.56   \n",
       "11  04/16/21  0.02  0.02  0.02  0.04  0.06  0.16  0.34  0.84  1.26   1.59   \n",
       "12  04/19/21  0.01  0.02  0.02  0.04  0.08  0.16  0.34  0.85  1.28   1.61   \n",
       "13  04/20/21  0.01  0.02  0.03  0.04  0.07  0.15  0.31  0.81  1.25   1.58   \n",
       "14  04/21/21  0.00  0.02  0.03  0.04  0.07  0.15  0.32  0.81  1.24   1.57   \n",
       "15  04/22/21  0.02  0.02  0.03  0.04  0.06  0.16  0.32  0.81  1.24   1.57   \n",
       "16  04/23/21  0.01  0.02  0.03  0.03  0.07  0.16  0.34  0.83  1.26   1.58   \n",
       "17  04/26/21  0.02  0.02  0.03  0.04  0.06  0.18  0.35  0.85  1.27   1.58   \n",
       "18  04/27/21  0.01  0.02  0.01  0.04  0.06  0.17  0.36  0.88  1.32   1.63   \n",
       "19  04/28/21  0.01  0.01  0.01  0.04  0.05  0.17  0.35  0.86  1.31   1.63   \n",
       "\n",
       "    20 Yr  30 Yr  \n",
       "0    2.24   2.34  \n",
       "1    2.27   2.35  \n",
       "2    2.28   2.36  \n",
       "3    2.24   2.32  \n",
       "4    2.26   2.35  \n",
       "5    2.22   2.32  \n",
       "6    2.23   2.34  \n",
       "7    2.24   2.34  \n",
       "8    2.21   2.32  \n",
       "9    2.22   2.32  \n",
       "10   2.13   2.23  \n",
       "11   2.15   2.26  \n",
       "12   2.18   2.29  \n",
       "13   2.16   2.27  \n",
       "14   2.16   2.26  \n",
       "15   2.13   2.24  \n",
       "16   2.14   2.25  \n",
       "17   2.13   2.24  \n",
       "18   2.18   2.29  \n",
       "19   2.19   2.29  "
      ]
     },
     "execution_count": 73,
     "metadata": {},
     "output_type": "execute_result"
    }
   ],
   "source": [
    "df"
   ]
  },
  {
   "cell_type": "code",
   "execution_count": 90,
   "id": "furnished-municipality",
   "metadata": {},
   "outputs": [
    {
     "data": {
      "text/plain": [
       "<Figure size 1584x648 with 0 Axes>"
      ]
     },
     "metadata": {},
     "output_type": "display_data"
    }
   ],
   "source": [
    " fig = plt.figure(figsize=(22,9))"
   ]
  },
  {
   "cell_type": "code",
   "execution_count": 93,
   "id": "abandoned-sweet",
   "metadata": {},
   "outputs": [
    {
     "data": {
      "text/plain": [
       "[<matplotlib.lines.Line2D at 0x7fcf3791be50>,\n",
       " <matplotlib.lines.Line2D at 0x7fcf3791bcd0>,\n",
       " <matplotlib.lines.Line2D at 0x7fcf3791bf10>,\n",
       " <matplotlib.lines.Line2D at 0x7fcf3791bfd0>]"
      ]
     },
     "execution_count": 93,
     "metadata": {},
     "output_type": "execute_result"
    },
    {
     "data": {
      "image/png": "[encoded data removed]",
      "text/plain": [
       "<Figure size 432x288 with 1 Axes>"
      ]
     },
     "metadata": {
      "needs_background": "light"
     },
     "output_type": "display_data"
    }
   ],
   "source": [
    "plt.plot(df['Date'],df[['1 Mo','2 Mo','3 Mo','6 Mo']])"
   ]
  },
  {
   "cell_type": "code",
   "execution_count": 85,
   "id": "documentary-ticket",
   "metadata": {},
   "outputs": [
    {
     "data": {
      "text/plain": [
       "Text(0, 0.5, 'Treasury Rates')"
      ]
     },
     "execution_count": 85,
     "metadata": {},
     "output_type": "execute_result"
    },
    {
     "data": {
      "image/png": "[encoded data removed]",
      "text/plain": [
       "<Figure size 432x288 with 1 Axes>"
      ]
     },
     "metadata": {
      "needs_background": "light"
     },
     "output_type": "display_data"
    }
   ],
   "source": [
    "plt.xlabel('Month')\n",
    "plt.ylabel('Treasury Rates')"
   ]
  },
  {
   "cell_type": "code",
   "execution_count": 87,
   "id": "dimensional-encyclopedia",
   "metadata": {},
   "outputs": [],
   "source": [
    "plt.show()"
   ]
  },
  {
   "cell_type": "code",
   "execution_count": 80,
   "id": "visible-surge",
   "metadata": {},
   "outputs": [
    {
     "data": {
      "text/plain": [
       "[<matplotlib.lines.Line2D at 0x7fcf37ded310>,\n",
       " <matplotlib.lines.Line2D at 0x7fcf37dedc70>,\n",
       " <matplotlib.lines.Line2D at 0x7fcf37dedf10>,\n",
       " <matplotlib.lines.Line2D at 0x7fcf37ded820>,\n",
       " <matplotlib.lines.Line2D at 0x7fcf37ded340>]"
      ]
     },
     "execution_count": 80,
     "metadata": {},
     "output_type": "execute_result"
    },
    {
     "data": {
      "image/png": "[encoded data removed]",
      "text/plain": [
       "<Figure size 432x288 with 1 Axes>"
      ]
     },
     "metadata": {
      "needs_background": "light"
     },
     "output_type": "display_data"
    }
   ],
   "source": [
    "# plt.plot(df['Date'],df[['1 Yr','2 Yr','3 Yr','5 Yr','7 Yr']])"
   ]
  },
  {
   "cell_type": "code",
   "execution_count": 91,
   "id": "forward-possible",
   "metadata": {},
   "outputs": [],
   "source": [
    "fig.savefig('charts/Treasury_curve.png')"
   ]
  },
  {
   "cell_type": "code",
   "execution_count": null,
   "id": "miniature-archive",
   "metadata": {},
   "outputs": [],
   "source": []
  }
 ],
 "metadata": {
  "kernelspec": {
   "display_name": "Python 3",
   "language": "python",
   "name": "python3"
  },
  "language_info": {
   "codemirror_mode": {
    "name": "ipython",
    "version": 3
   },
   "file_extension": ".py",
   "mimetype": "text/x-python",
   "name": "python",
   "nbconvert_exporter": "python",
   "pygments_lexer": "ipython3",
   "version": "3.9.0"
  }
 },
 "nbformat": 4,
 "nbformat_minor": 5
}
