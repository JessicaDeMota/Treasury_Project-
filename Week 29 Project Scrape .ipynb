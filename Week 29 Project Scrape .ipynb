{
 "cells": [
  {
   "cell_type": "code",
   "execution_count": 1,
   "id": "formal-latest",
   "metadata": {},
   "outputs": [],
   "source": [
    "import requests "
   ]
  },
  {
   "cell_type": "code",
   "execution_count": 3,
   "id": "packed-serve",
   "metadata": {},
   "outputs": [
    {
     "name": "stdout",
     "output_type": "stream",
     "text": [
      "Collecting BeautifulSoup4\n",
      "\u001b[?25l  Downloading https://files.pythonhosted.org/packages/d1/41/e6495bd7d3781cee623ce23ea6ac73282a373088fcd0ddc809a047b18eae/beautifulsoup4-4.9.3-py3-none-any.whl (115kB)\n",
      "\u001b[K    100% |████████████████████████████████| 122kB 4.1MB/s ta 0:00:01\n",
      "\u001b[?25hCollecting soupsieve>1.2; python_version >= \"3.0\" (from BeautifulSoup4)\n",
      "  Downloading https://files.pythonhosted.org/packages/36/69/d82d04022f02733bf9a72bc3b96332d360c0c5307096d76f6bb7489f7e57/soupsieve-2.2.1-py3-none-any.whl\n",
      "Installing collected packages: soupsieve, BeautifulSoup4\n",
      "Successfully installed BeautifulSoup4-4.9.3 soupsieve-2.2.1\n",
      "\u001b[33mYou are using pip version 19.0.3, however version 21.1 is available.\n",
      "You should consider upgrading via the 'pip install --upgrade pip' command.\u001b[0m\n",
      "Note: you may need to restart the kernel to use updated packages.\n"
     ]
    }
   ],
   "source": [
    "pip install BeautifulSoup4"
   ]
  },
  {
   "cell_type": "code",
   "execution_count": 6,
   "id": "serious-liberia",
   "metadata": {},
   "outputs": [],
   "source": [
    "from bs4 import BeautifulSoup "
   ]
  },
  {
   "cell_type": "code",
   "execution_count": 7,
   "id": "systematic-anxiety",
   "metadata": {},
   "outputs": [],
   "source": [
    "import csv "
   ]
  },
  {
   "cell_type": "code",
   "execution_count": 8,
   "id": "intermediate-smith",
   "metadata": {},
   "outputs": [],
   "source": [
    "import pandas as pd "
   ]
  },
  {
   "cell_type": "code",
   "execution_count": 9,
   "id": "designed-globe",
   "metadata": {},
   "outputs": [],
   "source": [
    "import matplotlib as mpl "
   ]
  },
  {
   "cell_type": "code",
   "execution_count": 10,
   "id": "centered-conservation",
   "metadata": {},
   "outputs": [],
   "source": [
    "import matplotlib.pyplot as plt "
   ]
  },
  {
   "cell_type": "code",
   "execution_count": null,
   "id": "solid-homeless",
   "metadata": {},
   "outputs": [],
   "source": [
    "def webscraper():\n",
    "    url = \"https://www.treasury.gov/resource-center/data-chart-center/interest-rates/Pages/TextView.aspx?data=yield\"\n",
    "    r = requests.get(url)\n",
    "    soup = BeautifulSoup(r.text,\"html.parser\")\n",
    "    table = soup.find(\"table\",{\"class\":\"t-chart\"})\n",
    "    rows = table.findAll(\"tr\")\n",
    "    data matrix = []\n",
    "for i in range(1,len(rows)):\n",
    "    x = list(rows[i].stripped_strings)\n",
    "    data_matrix.append(x)\n",
    "    \n",
    "with open('Treasury_data.csv','w') as CSVfile:\n",
    "    CSVWriter = csv.writer(CSVfile)\n",
    "    for ml in data_matrix:\n",
    "        CSVWriter.writerow(ml)\n",
    "        \n",
    "        \n",
    "def make_chart():\n",
    "    df = pd.read_csv(\"Treasury_data.csv\")\n",
    "    df.columns = \n",
    "    fig = plt.figure(figsize=(16,8))\n",
    "    plt.plot(df['Date'],df['5 Yr'],label='')\n",
    "\n",
    "    "
   ]
  }
 ],
 "metadata": {
  "kernelspec": {
   "display_name": "Python 3",
   "language": "python",
   "name": "python3"
  },
  "language_info": {
   "codemirror_mode": {
    "name": "ipython",
    "version": 3
   },
   "file_extension": ".py",
   "mimetype": "text/x-python",
   "name": "python",
   "nbconvert_exporter": "python",
   "pygments_lexer": "ipython3",
   "version": "3.9.0"
  }
 },
 "nbformat": 4,
 "nbformat_minor": 5
}
